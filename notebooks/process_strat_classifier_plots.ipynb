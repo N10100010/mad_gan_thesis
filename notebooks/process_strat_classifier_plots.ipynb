{
 "cells": [
  {
   "cell_type": "code",
   "execution_count": 5,
   "id": "d4b69e24-1113-4675-9a99-09c1d33b3b22",
   "metadata": {},
   "outputs": [],
   "source": [
    "import numpy as np \n",
    "from matplotlib import pyplot as plt \n",
    "\n",
    "plt.rcParams.update({\n",
    "    \"text.usetex\": True,            # Use LaTeX for all text\n",
    "    \"font.family\": \"serif\",         # Use serif font\n",
    "    \"font.serif\": [\"Computer Modern Roman\"],  # LaTeX default\n",
    "    \"axes.labelsize\": 12,\n",
    "    \"font.size\": 12,\n",
    "    \"legend.fontsize\": 10,\n",
    "    \"xtick.labelsize\": 10,\n",
    "    \"ytick.labelsize\": 10,\n",
    "})\n",
    "\n",
    "import os \n",
    "from pathlib import Path \n",
    "\n",
    "import re \n"
   ]
  },
  {
   "cell_type": "code",
   "execution_count": 11,
   "id": "dc56cdab-0314-497f-8789-1dc6d193bad5",
   "metadata": {},
   "outputs": [
    {
     "data": {
      "text/plain": [
       "'2025-02-28_Stratified_classifierExperiment_FASHIONMNIST__10_used_generator_0__images_real_0_gen_5000'"
      ]
     },
     "execution_count": 11,
     "metadata": {},
     "output_type": "execute_result"
    }
   ],
   "source": [
    "FOLDER = \"FASHION_MNIST_STRATIFIED_CLASSIFIERS_MADGAN\"\n",
    "# FOLDER = \"MNIST_STRATIFIED_CLASSIFIERS_MADGAN\"\n",
    "\n",
    "TYPE = \"MADGAN\"\n",
    "DATASET = \"FASHION\"\n",
    "\n",
    "\n",
    "base_path = Path(\"C:/Users/NiXoN/Desktop/_thesis/mad_gan_thesis/notebooks\")\n",
    "strat_exp_path = base_path / 'experiments' / FOLDER \n",
    "\n",
    "experiments = os.listdir(strat_exp_path)\n",
    "\n",
    "experiments[0]"
   ]
  },
  {
   "cell_type": "code",
   "execution_count": 12,
   "id": "3fc5b3d1-7f36-4ee4-9a9e-3ed890f1a4e4",
   "metadata": {},
   "outputs": [],
   "source": [
    "cmap = plt.get_cmap('tab10')  # good for distinct colors (up to 10)\n",
    "colors = [cmap(i) for i in range(10)] + [(0.5, 0.5, 0.5, 1.0)]  # Add gray for the 11th color\n",
    "\n",
    "color_dict_by_generator = {str(i): colors[i] for i in range(11)}\n",
    "\n",
    "\n",
    "def extract_info_from_experiment_name(exp: str) -> dict: \n",
    "    splt = exp.split('_')\n",
    "    ret = {'dataset': splt[3], 'n_gen': splt[5], 'used_gen': splt[8], 'n_real': splt[-3], 'n_fake': splt[-1]}\n",
    "\n",
    "    if any([v == '' for v in ret.values()]): \n",
    "        print(\"ALARM\")\n",
    "        print(exp)\n",
    "\n",
    "    return ret\n",
    "\n",
    "def sort_dict_based_on_n_real_images(d: dict, reverse=True) -> dict: \n",
    "    return dict(sorted(\n",
    "        d.items(),\n",
    "        key=lambda x: int(re.search(r'images_real_(\\d+)', x[0]).group(1)), \n",
    "        reverse=reverse\n",
    "    ))\n",
    "\n",
    "\n",
    "def plot_history_strat_classifiers(histories: dict, meta_info: dict, save_path: Path, show: bool = False) -> None: \n",
    "    mi = {'': [100]}\n",
    "    ma = {'': [0]}\n",
    "    \n",
    "    all_vals = []\n",
    "    \n",
    "    for exp, hist in histories.items(): \n",
    "        dataset, n_gen, used_gen, n_real, n_fake = meta_info[exp].values()\n",
    "        \n",
    "        plt.plot(\n",
    "            hist['val_accuracy'], \n",
    "            color=(0, 0, 0, 0.1)  # Light grey for individual runs\n",
    "        )\n",
    "        \n",
    "        all_vals.append(hist['val_accuracy'])\n",
    "        \n",
    "        if hist['val_accuracy'][-1] > list(ma.values())[-1][-1]: \n",
    "            ma = {exp: hist['val_accuracy']}\n",
    "            \n",
    "        if hist['val_accuracy'][-1] < list(mi.values())[-1][-1]: \n",
    "            mi = {exp: hist['val_accuracy']}\n",
    "    \n",
    "    # Pad shorter histories for averaging\n",
    "    max_len = max(map(len, all_vals))\n",
    "    all_vals_padded = [np.pad(a, (0, max_len - len(a)), constant_values=np.nan) for a in all_vals]\n",
    "    \n",
    "    avg = np.nanmean(all_vals_padded, axis=0)\n",
    "    med = np.nanmedian(all_vals_padded, axis=0)\n",
    "    \n",
    "    # CUD color palette\n",
    "    color_min = '#D55E00'  # Rust (worst)\n",
    "    color_max = '#009E73'  # Teal (best)\n",
    "    color_avg = '#0072B2'  # Blue (average)\n",
    "    color_med = '#E69F00'  # Golden (median)\n",
    "    \n",
    "    # Plot min run\n",
    "    dataset, n_gen, used_gen, n_real, n_fake = meta_info[list(mi.keys())[0]].values()\n",
    "    plt.plot(list(mi.values())[-1], color=color_min, linewidth=2, label=f\"Minimum, gen: {used_gen}, N-real: {n_real}, N-fake: {n_fake}\")\n",
    "    \n",
    "    # Plot max run\n",
    "    dataset, n_gen, used_gen, n_real, n_fake = meta_info[list(ma.keys())[0]].values()\n",
    "    plt.plot(list(ma.values())[-1], color=color_max, linewidth=2, label=f\"Maximum, gen: {used_gen}, N-real: {n_real}, N-fake: {n_fake}\")\n",
    "    \n",
    "    # Plot average\n",
    "    plt.plot(avg, color=color_avg, linewidth=2, label=\"Average\")\n",
    "    \n",
    "    # Plot median\n",
    "    plt.plot(med, color=color_med, linewidth=2, linestyle='--', label=\"Median\")\n",
    "    \n",
    "    plt.title(f\"Validation Accuracy - Dataset: {dataset}, N-Gen: {n_gen}\")\n",
    "    plt.legend()\n",
    "    plt.tight_layout()\n",
    "\n",
    "    \n",
    "    if show:\n",
    "        print(show)\n",
    "        plt.show()\n",
    "    else: \n",
    "        plt.savefig(save_path)\n",
    "\n",
    "    plt.close()"
   ]
  },
  {
   "cell_type": "markdown",
   "id": "a4abf936-5f67-42da-91f8-7ac6aff06740",
   "metadata": {},
   "source": [
    "### NOTE: \n",
    "there are only experiments with 3, 5, 7, 10 generators "
   ]
  },
  {
   "cell_type": "code",
   "execution_count": 14,
   "id": "c7a2e66e-e3aa-46b1-9a33-6ce836b928b0",
   "metadata": {},
   "outputs": [
    {
     "name": "stdout",
     "output_type": "stream",
     "text": [
      "CURRENT GENERATOR: 3\n",
      "CURRENT GENERATOR: 5\n",
      "CURRENT GENERATOR: 7\n",
      "CURRENT GENERATOR: 10\n"
     ]
    }
   ],
   "source": [
    "# load all histories: \n",
    "\n",
    "experiments_by_used_gen = {}\n",
    "\n",
    "histories = {}\n",
    "meta_info = {}\n",
    "\n",
    "for target_gen in [3, 5, 7, 10]:\n",
    "\n",
    "    print(f\"CURRENT GENERATOR: {target_gen}\")\n",
    "\n",
    "    for exp in experiments: \n",
    "    \n",
    "        meta = extract_info_from_experiment_name(exp)\n",
    "    \n",
    "        if meta['n_gen'] == str(target_gen):\n",
    "            history = np.load(Path(strat_exp_path) / exp / 'training_history.npy', allow_pickle=True).item()\n",
    "            histories[exp] = history\n",
    "            meta_info[exp] = meta\n",
    "\n",
    "        else: \n",
    "            continue\n",
    "            \n",
    "\n",
    "    \n",
    "    histories = sort_dict_based_on_n_real_images(histories)\n",
    "    meta_info = sort_dict_based_on_n_real_images(meta_info)\n",
    "\n",
    "    if histories: \n",
    "        plot_history_strat_classifiers(\n",
    "            histories, \n",
    "            meta_info, \n",
    "            Path(\"C:\\\\Users\\\\NiXoN\\\\Desktop\\\\_thesis\\\\mad_gan_thesis\\\\latex\\\\master_thesis\\\\abb\\\\strat_classifier_performance\") / f\"{TYPE}_{DATASET}_n_gen_{target_gen}_all.png\",     \n",
    "        )\n",
    "\n",
    "    "
   ]
  },
  {
   "cell_type": "code",
   "execution_count": null,
   "id": "fde2c3fc-e78b-442c-b791-d5fb352c2c0b",
   "metadata": {},
   "outputs": [],
   "source": []
  },
  {
   "cell_type": "code",
   "execution_count": null,
   "id": "ddc3a632-349b-4b5a-a430-24ca081ca502",
   "metadata": {},
   "outputs": [],
   "source": []
  },
  {
   "cell_type": "code",
   "execution_count": null,
   "id": "4db97d5d-e198-46a4-84cb-02141072f1c7",
   "metadata": {},
   "outputs": [],
   "source": []
  }
 ],
 "metadata": {
  "kernelspec": {
   "display_name": "Python 3 (ipykernel)",
   "language": "python",
   "name": "python3"
  },
  "language_info": {
   "codemirror_mode": {
    "name": "ipython",
    "version": 3
   },
   "file_extension": ".py",
   "mimetype": "text/x-python",
   "name": "python",
   "nbconvert_exporter": "python",
   "pygments_lexer": "ipython3",
   "version": "3.8.19"
  }
 },
 "nbformat": 4,
 "nbformat_minor": 5
}
