{
 "cells": [
  {
   "cell_type": "code",
   "execution_count": 4,
   "id": "d4b69e24-1113-4675-9a99-09c1d33b3b22",
   "metadata": {},
   "outputs": [],
   "source": [
    "import numpy as np \n",
    "from matplotlib import pyplot as plt \n",
    "import os \n",
    "from pathlib import Path \n"
   ]
  },
  {
   "cell_type": "code",
   "execution_count": 20,
   "id": "dc56cdab-0314-497f-8789-1dc6d193bad5",
   "metadata": {},
   "outputs": [
    {
     "data": {
      "text/plain": [
       "'2025-02-25_Stratified_classifierExperiment_MNIST__10_used_generator_0__images_real_3000_gen_2000'"
      ]
     },
     "execution_count": 20,
     "metadata": {},
     "output_type": "execute_result"
    }
   ],
   "source": [
    "base_path = Path(\"C:/Users/NiXoN/Desktop/_thesis/mad_gan_thesis/notebooks\")\n",
    "strat_exp_path = base_path / 'experiments/MNIST_STRATIFIED_CLASSIFIERS_MADGAN/'\n",
    "experiments = os.listdir(strat_exp_path)\n",
    "\n",
    "experiments[0]"
   ]
  },
  {
   "cell_type": "code",
   "execution_count": 38,
   "id": "3fc5b3d1-7f36-4ee4-9a9e-3ed890f1a4e4",
   "metadata": {},
   "outputs": [],
   "source": [
    "def extract_info_from_experiment_name(exp: str) -> {}: \n",
    "    splt = exp.split('_')\n",
    "    ret = {'dataset': splt[3], 'n_gen': splt[5], 'used_gen': splt[8], 'n_real': splt[-3], 'n_fake': splt[-1]}\n",
    "\n",
    "    return ret"
   ]
  },
  {
   "cell_type": "code",
   "execution_count": 48,
   "id": "c7a2e66e-e3aa-46b1-9a33-6ce836b928b0",
   "metadata": {},
   "outputs": [],
   "source": [
    "# load all histories: \n",
    "\n",
    "histories = {}\n",
    "meta_info = {}\n",
    "\n",
    "for exp in experiments: \n",
    "    meta = extract_info_from_experiment_name(exp)\n",
    "    if meta['n_gen'] == str(10): \n",
    "        histories[exp] = np.load(Path(strat_exp_path) / experiments[0] / 'training_history.npy', allow_pickle=True).item()\n",
    "        meta_info[exp] = meta\n",
    "    \n"
   ]
  },
  {
   "cell_type": "code",
   "execution_count": 49,
   "id": "9ba9791e-21d0-4235-9bf0-c0c6c3daaee7",
   "metadata": {},
   "outputs": [
    {
     "data": {
      "text/plain": [
       "50"
      ]
     },
     "execution_count": 49,
     "metadata": {},
     "output_type": "execute_result"
    }
   ],
   "source": [
    "len(meta_info)"
   ]
  },
  {
   "cell_type": "code",
   "execution_count": null,
   "id": "2ae2ced9-a5eb-44d6-81d1-912027c009fd",
   "metadata": {},
   "outputs": [],
   "source": []
  }
 ],
 "metadata": {
  "kernelspec": {
   "display_name": "Python 3 (ipykernel)",
   "language": "python",
   "name": "python3"
  },
  "language_info": {
   "codemirror_mode": {
    "name": "ipython",
    "version": 3
   },
   "file_extension": ".py",
   "mimetype": "text/x-python",
   "name": "python",
   "nbconvert_exporter": "python",
   "pygments_lexer": "ipython3",
   "version": "3.8.19"
  }
 },
 "nbformat": 4,
 "nbformat_minor": 5
}
