{
 "cells": [
  {
   "cell_type": "code",
   "execution_count": 8,
   "id": "2fe3ad21-422a-4be5-bf12-22edd1b45474",
   "metadata": {},
   "outputs": [],
   "source": [
    "import os  \n",
    "from pathlib import Path \n",
    "import re "
   ]
  },
  {
   "cell_type": "code",
   "execution_count": 15,
   "id": "dfdf74dd-88de-4b90-a421-2d1d60eabc34",
   "metadata": {},
   "outputs": [],
   "source": [
    "base_path = Path('./experiments/MNIST_STRATIFIED_CLASSIFIERS_MADGAN_NEW/')\n",
    "experiments = os.listdir(base_path)"
   ]
  },
  {
   "cell_type": "code",
   "execution_count": 16,
   "id": "9a0f9af4-a9bd-4846-b8cb-efa1ad508fb1",
   "metadata": {},
   "outputs": [],
   "source": [
    "\n",
    "trained_generators = [3, 5, 7, 10]\n",
    "n_images_per_class = [ \n",
    "    (0, 5000), (1000, 4000), (2000, 3000), (3000, 2000), (4000, 1000), (5000, 0),\n",
    "    (5000, 1000), (5000, 2000), (5000, 3000), (5000, 4000), (5000, 5000)\n",
    "]\n"
   ]
  },
  {
   "cell_type": "code",
   "execution_count": 17,
   "id": "804d1e86-29e8-4998-b2c4-9a0b40fcc896",
   "metadata": {},
   "outputs": [],
   "source": [
    "def extract_info_from_experiment_name(exp: str) -> dict:\n",
    "    \"\"\"\n",
    "    Extracts metadata from experiment name, handling different naming patterns.\n",
    "    \"\"\"\n",
    "    # Pattern attempts to find n_gen in two places, plus used_gen, n_real, n_fake\n",
    "    pattern = (\n",
    "        r\".*?_\"\n",
    "        r\"(?P<dataset>[A-Z0-9]+)_+\" # Dataset (e.g., MNIST)\n",
    "        r\"(?:(?P<n_gen_early>\\d+)_+)?\" # Optional early n_gen (e.g., __7_)\n",
    "        r\"(?:.*?\" # Separator\n",
    "           r\"used_generator_(?P<used_gen>\\d+)_+\"\n",
    "        r\")?\" # Optional used_gen block\n",
    "        r\"(?:.*?\" # Separator\n",
    "           r\"trained_generators_(?P<n_gen_trained>\\d+)_+\"\n",
    "        r\")?\" # Optional trained_generators block\n",
    "        r\".*?\" # Separator\n",
    "        r\"images_real_(?P<n_real>\\d+)_+\" # n_real\n",
    "        r\"gen_(?P<n_fake>\\d+)\" # n_fake\n",
    "        r\".*$\" # Rest of string\n",
    "    )\n",
    "\n",
    "    match = re.search(pattern, exp)\n",
    "\n",
    "    # Default values\n",
    "    info = {'dataset': None, 'n_gen': 0, 'used_gen': 0, 'n_real': -1, 'n_fake': -1, 'parse_success': False}\n",
    "\n",
    "    if not match:\n",
    "        # Basic check: Does it even contain image counts? If not, definitely skip.\n",
    "        if \"images_real_\" not in exp or \"_gen_\" not in exp:\n",
    "             print(f\"Skipping (no image info?): {exp}\")\n",
    "             return info\n",
    "        # If it has image counts but didn't match complex pattern, try simpler extraction\n",
    "        # This might happen for baseline names without generator info\n",
    "        simple_pattern = r\".*?_(?P<dataset>[A-Z0-9]+)_+.*?images_real_(?P<n_real>\\d+)_+gen_(?P<n_fake>\\d+).*$\"\n",
    "        simple_match = re.search(simple_pattern, exp)\n",
    "        if simple_match:\n",
    "             simple_groups = simple_match.groupdict()\n",
    "             info['dataset'] = simple_groups.get('dataset')\n",
    "             info['n_real'] = int(simple_groups.get('n_real', -1))\n",
    "             info['n_fake'] = int(simple_groups.get('n_fake', -1))\n",
    "             # Since no generator info was reliably parsed, leave n_gen/used_gen as 0/default\n",
    "             # Check if it's the specific baseline ratio\n",
    "             if info['n_real'] == 5000 and info['n_fake'] == 0:\n",
    "                  info['parse_success'] = True # Mark baseline as successfully parsed\n",
    "                  print(f\"Parsed as Baseline: {exp} -> {info}\")\n",
    "             else:\n",
    "                  print(f\"Warning: Parsed name '{exp}' partially (simple pattern), non-baseline ratio.\")\n",
    "             return info\n",
    "        else:\n",
    "             print(f\"ALARM: Could not parse experiment name: '{exp}'\")\n",
    "             return info # Return default info with parse_success=False\n",
    "\n",
    "\n",
    "    # Process the main pattern match\n",
    "    groups = match.groupdict()\n",
    "    info['parse_success'] = True # Assume success if main pattern matched\n",
    "    info['dataset'] = groups.get('dataset')\n",
    "\n",
    "    # Determine n_gen (prefer 'trained_generators' if present)\n",
    "    n_gen_trained_str = groups.get('n_gen_trained')\n",
    "    n_gen_early_str = groups.get('n_gen_early')\n",
    "    if n_gen_trained_str:\n",
    "        info['n_gen'] = int(n_gen_trained_str)\n",
    "    elif n_gen_early_str:\n",
    "        info['n_gen'] = int(n_gen_early_str)\n",
    "    else:\n",
    "         # If neither n_gen pattern matched, maybe it's an error or needs different handling\n",
    "         print(f\"Warning: Could not determine n_gen for '{exp}'. Defaulting to 0.\")\n",
    "         info['n_gen'] = 0 # Default or raise error?\n",
    "\n",
    "    info['used_gen'] = int(groups.get('used_gen') or 0) # Default 0 if missing\n",
    "    info['n_real'] = int(groups.get('n_real') or -1) # Default -1 if missing\n",
    "    info['n_fake'] = int(groups.get('n_fake') or -1) # Default -1 if missing\n",
    "\n",
    "    # Add a check if parsed values seem inconsistent (e.g., used_gen >= n_gen)\n",
    "    if info['n_gen'] > 0 and info['used_gen'] >= info['n_gen']:\n",
    "        print(f\"Warning: Inconsistent parse? used_gen ({info['used_gen']}) >= n_gen ({info['n_gen']}) for '{exp}'\")\n",
    "        # info['parse_success'] = False # Optionally invalidate if needed\n",
    "\n",
    "    return info"
   ]
  },
  {
   "cell_type": "code",
   "execution_count": 18,
   "id": "170cfe95-504c-4fa9-921c-fe6e96753d21",
   "metadata": {},
   "outputs": [
    {
     "name": "stdout",
     "output_type": "stream",
     "text": [
      "2025-04-18_Stratified_classifierExperiment_MNIST___MADGAN__used_generator_0__trained_generators_10__images_real_1000_gen_4000\n",
      "{'dataset': 'MNIST', 'n_gen': 10, 'used_gen': 0, 'n_real': 1000, 'n_fake': 4000, 'parse_success': True}\n"
     ]
    }
   ],
   "source": [
    "infos = []\n",
    "for exp in experiments: \n",
    "    print(exp)\n",
    "    d = extract_info_from_experiment_name(exp)\n",
    "    print(d)\n",
    "    break"
   ]
  },
  {
   "cell_type": "code",
   "execution_count": 22,
   "id": "dd33168d-d56f-4c40-ad19-c409219bf667",
   "metadata": {},
   "outputs": [
    {
     "data": {
      "text/plain": [
       "275"
      ]
     },
     "execution_count": 22,
     "metadata": {},
     "output_type": "execute_result"
    }
   ],
   "source": [
    "expected_experiments = []\n",
    "for trained_gen in trained_generators:\n",
    "    for used_gen in range(trained_gen): \n",
    "        for t in n_images_per_class:\n",
    "            expected_experiments.append(\n",
    "                (trained_gen, used_gen, t[0], t[1])\n",
    "            )\n",
    "len(expected_experiments)"
   ]
  },
  {
   "cell_type": "code",
   "execution_count": null,
   "id": "71c206ea-903a-4eb9-8f3b-3edff15c8908",
   "metadata": {},
   "outputs": [],
   "source": [
    "    "
   ]
  }
 ],
 "metadata": {
  "kernelspec": {
   "display_name": "Python 3 (ipykernel)",
   "language": "python",
   "name": "python3"
  },
  "language_info": {
   "codemirror_mode": {
    "name": "ipython",
    "version": 3
   },
   "file_extension": ".py",
   "mimetype": "text/x-python",
   "name": "python",
   "nbconvert_exporter": "python",
   "pygments_lexer": "ipython3",
   "version": "3.8.19"
  }
 },
 "nbformat": 4,
 "nbformat_minor": 5
}
