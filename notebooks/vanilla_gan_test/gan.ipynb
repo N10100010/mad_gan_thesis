{
 "cells": [
  {
   "cell_type": "code",
   "execution_count": 20,
   "id": "f584aa93-b500-450e-82d3-bda9488aba5b",
   "metadata": {},
   "outputs": [],
   "source": [
    "from typing import Dict\n",
    "\n",
    "import tensorflow as tf\n",
    "from tensorflow.keras import layers\n",
    "\n",
    "from matplotlib import pyplot as plt "
   ]
  },
  {
   "cell_type": "code",
   "execution_count": 42,
   "id": "2e9bceba-941d-47e3-b109-c8aad877ef53",
   "metadata": {},
   "outputs": [],
   "source": [
    "BATCH_SIZE = 256\n",
    "LATENT_DIM = 100 \n",
    "\n",
    "BUFFER_SIZE = 60_000 # size of dataset "
   ]
  },
  {
   "cell_type": "code",
   "execution_count": 73,
   "id": "b8d65b93-25db-4212-9643-2eb6e7de2efe",
   "metadata": {},
   "outputs": [],
   "source": [
    "class VanillaGAN(tf.keras.Model):\n",
    "    def __init__(self, discriminator: tf.keras.Model, generator: tf.keras.Model, latent_dim: int, batch_size: int = BATCH_SIZE):\n",
    "        super(VanillaGAN, self).__init__()\n",
    "        self.discriminator = discriminator\n",
    "        self.generator = generator\n",
    "        self.latent_dim = latent_dim\n",
    "        self.batch_size = BATCH_SIZE\n",
    "        \n",
    "        \n",
    "    def save_model(self, path: str):\n",
    "        self.save_weights(path)\n",
    "    \n",
    "    @classmethod\n",
    "    def load_model(cls, path: str, **kwargs) -> \"VanillaGAN\":\n",
    "        discriminator = tf.keras.models.load_model(kwargs['discriminator_path'])\n",
    "        generator = tf.keras.models.load_model(kwargs['generator_path'])\n",
    "        latent_dim = kwargs['latent_dim']\n",
    "        gan = cls(discriminator, generator, latent_dim, **kwargs)\n",
    "        gan.load_weights(path)\n",
    "        return gan\n",
    "\n",
    "    def compile(self, d_optimizer, g_optimizer, loss_fn):\n",
    "        super(VanillaGAN, self).compile()\n",
    "        self.d_optimizer = d_optimizer\n",
    "        self.g_optimizer = g_optimizer\n",
    "        self.loss_fn = loss_fn\n",
    "\n",
    "    @tf.function\n",
    "    def train_step(self, data: tf.Tensor) -> Dict[str, tf.Tensor]:\n",
    "        X = tf.cast(data, tf.float32)  # Ensure data type consistency\n",
    "        batch_size = tf.shape(X)[0]\n",
    "        \n",
    "        #######################\n",
    "        #   Prepare Inputs    #\n",
    "        #######################\n",
    "        # Sample random points in the latent space\n",
    "        random_latent_vectors = tf.random.normal(shape=(self.batch_size, self.latent_dim))\n",
    "        \n",
    "        # Generate fake images\n",
    "        x_generator = self.generator(random_latent_vectors)\n",
    "        \n",
    "        # Combine real and fake images\n",
    "        combined_images = tf.concat([x_generator, X], axis=0)\n",
    "        \n",
    "        # Create labels for discriminator\n",
    "        real_labels = tf.ones((self.batch_size, 1))\n",
    "        fake_labels = tf.zeros((self.batch_size, 1))\n",
    "        labels = tf.concat([real_labels, fake_labels], axis=0)\n",
    "        \n",
    "        # Add random noise to labels\n",
    "        labels += 0.05 * tf.random.uniform(tf.shape(labels))\n",
    "        labels = tf.clip_by_value(labels, 0, 1)  # Keep labels in range [0, 1]\n",
    "        \n",
    "        #######################\n",
    "        # Train Discriminator #\n",
    "        #######################\n",
    "        with tf.GradientTape() as tape:\n",
    "            predictions = self.discriminator(combined_images)\n",
    "            # Ensure shape compatibility\n",
    "            predictions = tf.reshape(predictions, tf.shape(labels))\n",
    "            d_loss = self.loss_fn(labels, predictions)\n",
    "        grads = tape.gradient(d_loss, self.discriminator.trainable_weights)\n",
    "        self.d_optimizer.apply_gradients(zip(grads, self.discriminator.trainable_weights))\n",
    "        \n",
    "        #######################\n",
    "        #   Train Generator   #\n",
    "        #######################\n",
    "        # Sample random points in the latent space\n",
    "        random_latent_vectors = tf.random.normal(shape=(self.batch_size, self.latent_dim))\n",
    "        \n",
    "        # Misleading labels for generator training\n",
    "        misleading_labels = tf.ones((self.batch_size, 1))  # Pretend generated images are real\n",
    "        \n",
    "        with tf.GradientTape() as tape:\n",
    "            generated_images = self.generator(random_latent_vectors)\n",
    "            predictions = self.discriminator(generated_images)\n",
    "            g_loss = self.loss_fn(misleading_labels, predictions)\n",
    "        grads = tape.gradient(g_loss, self.generator.trainable_weights)\n",
    "        self.g_optimizer.apply_gradients(zip(grads, self.generator.trainable_weights))\n",
    "        \n",
    "        #######################\n",
    "        #   Return Losses     #\n",
    "        #######################\n",
    "        return {\"d_loss\": d_loss, \"g_loss\": g_loss}\n",
    "\n"
   ]
  },
  {
   "cell_type": "code",
   "execution_count": 74,
   "id": "837ba374-e444-4048-91e9-48f50fc25d6c",
   "metadata": {},
   "outputs": [],
   "source": [
    "\n",
    "def generate_latent_points(batch_size, NOISE_DIM): \n",
    "    return tf.random.normal([batch_size, NOISE_DIM])\n",
    "\n",
    "\n",
    "def generate_and_save_images(model, epoch, test_input):\n",
    "  # Notice `training` is set to False.\n",
    "  # This is so all layers run in inference mode (batchnorm).\n",
    "  predictions = model(test_input, training=False)\n",
    "\n",
    "  fig = plt.figure(figsize=(4, 4))\n",
    "\n",
    "  for i in range(predictions.shape[0]):\n",
    "      plt.subplot(4, 4, i+1)\n",
    "      plt.imshow(predictions[i, :, :, 0] * 127.5 + 127.5, cmap='gray')\n",
    "      plt.axis('off')\n",
    "\n",
    "  plt.savefig('image_at_epoch_{:04d}.png'.format(epoch))\n",
    "  plt.show()\n"
   ]
  },
  {
   "cell_type": "code",
   "execution_count": 75,
   "id": "2691f329-39ca-4782-8105-d7ce3a0cfe83",
   "metadata": {},
   "outputs": [],
   "source": [
    "def make_generator_model():\n",
    "    model = tf.keras.Sequential()\n",
    "    model.add(layers.Dense(7*7*256, use_bias=False, input_shape=(100,)))\n",
    "    model.add(layers.BatchNormalization())\n",
    "    model.add(layers.LeakyReLU())\n",
    "\n",
    "    model.add(layers.Reshape((7, 7, 256)))\n",
    "    assert model.output_shape == (None, 7, 7, 256)  # Note: None is the batch size\n",
    "\n",
    "    model.add(layers.Conv2DTranspose(128, (5, 5), strides=(1, 1), padding='same', use_bias=False))\n",
    "    assert model.output_shape == (None, 7, 7, 128)\n",
    "    model.add(layers.BatchNormalization())\n",
    "    model.add(layers.LeakyReLU())\n",
    "\n",
    "    model.add(layers.Conv2DTranspose(64, (5, 5), strides=(2, 2), padding='same', use_bias=False))\n",
    "    assert model.output_shape == (None, 14, 14, 64)\n",
    "    model.add(layers.BatchNormalization())\n",
    "    model.add(layers.LeakyReLU())\n",
    "\n",
    "    model.add(layers.Conv2DTranspose(1, (5, 5), strides=(2, 2), padding='same', use_bias=False, activation='tanh'))\n",
    "    assert model.output_shape == (None, 28, 28, 1)\n",
    "\n",
    "    return model"
   ]
  },
  {
   "cell_type": "code",
   "execution_count": 76,
   "id": "9a0f775f-f774-4047-8045-3bf1f3731c27",
   "metadata": {},
   "outputs": [
    {
     "data": {
      "text/plain": [
       "<matplotlib.image.AxesImage at 0x1be4aebca00>"
      ]
     },
     "execution_count": 76,
     "metadata": {},
     "output_type": "execute_result"
    },
    {
     "data": {
      "image/png": "[encoded data removed]",
      "text/plain": [
       "<Figure size 640x480 with 1 Axes>"
      ]
     },
     "metadata": {},
     "output_type": "display_data"
    }
   ],
   "source": [
    "generator = make_generator_model()\n",
    "\n",
    "noise = generate_latent_points(1, 100)\n",
    "img = generator(noise, training=False)\n",
    "\n",
    "plt.imshow(img[0, :, :, 0], cmap=\"gray\")"
   ]
  },
  {
   "cell_type": "code",
   "execution_count": 77,
   "id": "428c0a3a-5d58-441c-9c66-8616388cd772",
   "metadata": {},
   "outputs": [],
   "source": [
    "def make_discriminator_model():\n",
    "    model = tf.keras.Sequential()\n",
    "    model.add(layers.Conv2D(64, (5, 5), strides=(2, 2), padding='same',\n",
    "                                     input_shape=[28, 28, 1]))\n",
    "    model.add(layers.LeakyReLU())\n",
    "    model.add(layers.Dropout(0.3))\n",
    "\n",
    "    model.add(layers.Conv2D(128, (5, 5), strides=(2, 2), padding='same'))\n",
    "    model.add(layers.LeakyReLU())\n",
    "    model.add(layers.Dropout(0.3))\n",
    "\n",
    "    model.add(layers.Flatten())\n",
    "    model.add(layers.Dense(1))\n",
    "\n",
    "    return model"
   ]
  },
  {
   "cell_type": "code",
   "execution_count": 78,
   "id": "d01cb2b5-7f0c-4fbe-b230-94c768c60970",
   "metadata": {},
   "outputs": [
    {
     "name": "stdout",
     "output_type": "stream",
     "text": [
      "tf.Tensor([[0.00163669]], shape=(1, 1), dtype=float32)\n"
     ]
    }
   ],
   "source": [
    "discriminator = make_discriminator_model()\n",
    "decision = discriminator(img)\n",
    "print(decision)"
   ]
  },
  {
   "cell_type": "code",
   "execution_count": 79,
   "id": "7d71242c-f882-4df2-afb6-46a6a439ce28",
   "metadata": {},
   "outputs": [],
   "source": [
    "# This method returns a helper function to compute cross entropy loss\n",
    "cross_entropy = tf.keras.losses.BinaryCrossentropy(from_logits=True)\n",
    "\n",
    "def discriminator_loss(real_output, fake_output):\n",
    "    real_loss = cross_entropy(tf.ones_like(real_output), real_output)\n",
    "    fake_loss = cross_entropy(tf.zeros_like(fake_output), fake_output)\n",
    "    total_loss = real_loss + fake_loss\n",
    "    return total_loss\n",
    "\n",
    "def generator_loss(fake_output):\n",
    "    return cross_entropy(tf.ones_like(fake_output), fake_output)"
   ]
  },
  {
   "cell_type": "code",
   "execution_count": 80,
   "id": "b2b61eb3-2ed7-41fc-a485-29b4066e0d2d",
   "metadata": {},
   "outputs": [],
   "source": [
    "generator_optimizer = tf.keras.optimizers.Adam(1e-4)\n",
    "discriminator_optimizer = tf.keras.optimizers.Adam(1e-4)"
   ]
  },
  {
   "cell_type": "code",
   "execution_count": 81,
   "id": "42e3cf6b-391c-45ea-b935-5cdf2e97d3e9",
   "metadata": {},
   "outputs": [],
   "source": [
    "import os \n",
    "\n",
    "checkpoint_dir = './training_checkpoints'\n",
    "checkpoint_prefix = os.path.join(checkpoint_dir, \"ckpt\")\n",
    "checkpoint = tf.train.Checkpoint(generator_optimizer=generator_optimizer,\n",
    "                                 discriminator_optimizer=discriminator_optimizer,\n",
    "                                 generator=generator,\n",
    "                                 discriminator=discriminator)"
   ]
  },
  {
   "cell_type": "code",
   "execution_count": 82,
   "id": "3e0c7e0c-d0bd-4615-a044-2f5c290c3e59",
   "metadata": {},
   "outputs": [],
   "source": [
    "EPOCHS = 50\n",
    "noise_dim = 100\n",
    "num_examples_to_generate = 16\n",
    "\n",
    "# You will reuse this seed overtime (so it's easier)\n",
    "# to visualize progress in the animated GIF)\n",
    "seed = tf.random.normal([num_examples_to_generate, noise_dim])"
   ]
  },
  {
   "cell_type": "code",
   "execution_count": 83,
   "id": "25a99059-5145-48b3-80bf-c5f4f72405c6",
   "metadata": {},
   "outputs": [],
   "source": [
    "gan = VanillaGAN(discriminator=discriminator, generator=generator, latent_dim=LATENT_DIM)\n",
    "gan.compile(\n",
    "    d_optimizer=tf.keras.optimizers.Adam(learning_rate=0.0002, beta_1=0.5),\n",
    "    g_optimizer=tf.keras.optimizers.Adam(learning_rate=0.0002, beta_1=0.5),\n",
    "    loss_fn=tf.keras.losses.BinaryCrossentropy()\n",
    ")"
   ]
  },
  {
   "cell_type": "code",
   "execution_count": 85,
   "id": "422ecc7a-d8a7-4623-9876-7d685013e049",
   "metadata": {},
   "outputs": [],
   "source": [
    "# Load MNIST dataset\n",
    "(train_images, train_labels), (_, _) = tf.keras.datasets.mnist.load_data()\n",
    "\n",
    "# Normalize and cast the images to float32 and scale to [-1, 1]\n",
    "train_images = (train_images.astype('float32') - 127.5) / 127.5\n",
    "train_images = tf.expand_dims(train_images, axis=-1)  # Add a channel dimension (for grayscale)\n",
    "\n",
    "# Create a tf.data.Dataset\n",
    "train_dataset = tf.data.Dataset.from_tensor_slices(train_images).shuffle(BUFFER_SIZE).batch(BATCH_SIZE)"
   ]
  },
  {
   "cell_type": "code",
   "execution_count": 86,
   "id": "328709ab-f486-44b5-896d-85340923dce7",
   "metadata": {},
   "outputs": [
    {
     "name": "stdout",
     "output_type": "stream",
     "text": [
      "Epoch 1/50\n",
      "233/235 [============================>.] - ETA: 0s - d_loss: 0.1982 - g_loss: 0.0892"
     ]
    },
    {
     "ename": "InvalidArgumentError",
     "evalue": "Graph execution error:\n\nDetected at node 'binary_crossentropy/mul_1' defined at (most recent call last):\n    File \"C:\\Users\\NiXoN\\miniconda3\\envs\\local_thesis_conda\\lib\\runpy.py\", line 194, in _run_module_as_main\n      return _run_code(code, main_globals, None,\n    File \"C:\\Users\\NiXoN\\miniconda3\\envs\\local_thesis_conda\\lib\\runpy.py\", line 87, in _run_code\n      exec(code, run_globals)\n    File \"C:\\Users\\NiXoN\\miniconda3\\envs\\local_thesis_conda\\lib\\site-packages\\ipykernel_launcher.py\", line 17, in <module>\n      app.launch_new_instance()\n    File \"C:\\Users\\NiXoN\\miniconda3\\envs\\local_thesis_conda\\lib\\site-packages\\traitlets\\config\\application.py\", line 1075, in launch_instance\n      app.start()\n    File \"C:\\Users\\NiXoN\\miniconda3\\envs\\local_thesis_conda\\lib\\site-packages\\ipykernel\\kernelapp.py\", line 701, in start\n      self.io_loop.start()\n    File \"C:\\Users\\NiXoN\\miniconda3\\envs\\local_thesis_conda\\lib\\site-packages\\tornado\\platform\\asyncio.py\", line 205, in start\n      self.asyncio_loop.run_forever()\n    File \"C:\\Users\\NiXoN\\miniconda3\\envs\\local_thesis_conda\\lib\\asyncio\\windows_events.py\", line 316, in run_forever\n      super().run_forever()\n    File \"C:\\Users\\NiXoN\\miniconda3\\envs\\local_thesis_conda\\lib\\asyncio\\base_events.py\", line 570, in run_forever\n      self._run_once()\n    File \"C:\\Users\\NiXoN\\miniconda3\\envs\\local_thesis_conda\\lib\\asyncio\\base_events.py\", line 1859, in _run_once\n      handle._run()\n    File \"C:\\Users\\NiXoN\\miniconda3\\envs\\local_thesis_conda\\lib\\asyncio\\events.py\", line 81, in _run\n      self._context.run(self._callback, *self._args)\n    File \"C:\\Users\\NiXoN\\miniconda3\\envs\\local_thesis_conda\\lib\\site-packages\\ipykernel\\kernelbase.py\", line 534, in dispatch_queue\n      await self.process_one()\n    File \"C:\\Users\\NiXoN\\miniconda3\\envs\\local_thesis_conda\\lib\\site-packages\\ipykernel\\kernelbase.py\", line 523, in process_one\n      await dispatch(*args)\n    File \"C:\\Users\\NiXoN\\miniconda3\\envs\\local_thesis_conda\\lib\\site-packages\\ipykernel\\kernelbase.py\", line 429, in dispatch_shell\n      await result\n    File \"C:\\Users\\NiXoN\\miniconda3\\envs\\local_thesis_conda\\lib\\site-packages\\ipykernel\\kernelbase.py\", line 767, in execute_request\n      reply_content = await reply_content\n    File \"C:\\Users\\NiXoN\\miniconda3\\envs\\local_thesis_conda\\lib\\site-packages\\ipykernel\\ipkernel.py\", line 429, in do_execute\n      res = shell.run_cell(\n    File \"C:\\Users\\NiXoN\\miniconda3\\envs\\local_thesis_conda\\lib\\site-packages\\ipykernel\\zmqshell.py\", line 549, in run_cell\n      return super().run_cell(*args, **kwargs)\n    File \"C:\\Users\\NiXoN\\miniconda3\\envs\\local_thesis_conda\\lib\\site-packages\\IPython\\core\\interactiveshell.py\", line 3009, in run_cell\n      result = self._run_cell(\n    File \"C:\\Users\\NiXoN\\miniconda3\\envs\\local_thesis_conda\\lib\\site-packages\\IPython\\core\\interactiveshell.py\", line 3064, in _run_cell\n      result = runner(coro)\n    File \"C:\\Users\\NiXoN\\miniconda3\\envs\\local_thesis_conda\\lib\\site-packages\\IPython\\core\\async_helpers.py\", line 129, in _pseudo_sync_runner\n      coro.send(None)\n    File \"C:\\Users\\NiXoN\\miniconda3\\envs\\local_thesis_conda\\lib\\site-packages\\IPython\\core\\interactiveshell.py\", line 3269, in run_cell_async\n      has_raised = await self.run_ast_nodes(code_ast.body, cell_name,\n    File \"C:\\Users\\NiXoN\\miniconda3\\envs\\local_thesis_conda\\lib\\site-packages\\IPython\\core\\interactiveshell.py\", line 3448, in run_ast_nodes\n      if await self.run_code(code, result, async_=asy):\n    File \"C:\\Users\\NiXoN\\miniconda3\\envs\\local_thesis_conda\\lib\\site-packages\\IPython\\core\\interactiveshell.py\", line 3508, in run_code\n      exec(code_obj, self.user_global_ns, self.user_ns)\n    File \"C:\\Users\\NiXoN\\AppData\\Local\\Temp\\ipykernel_23112\\2730592735.py\", line 1, in <module>\n      gan.fit(\n    File \"C:\\Users\\NiXoN\\miniconda3\\envs\\local_thesis_conda\\lib\\site-packages\\keras\\utils\\traceback_utils.py\", line 65, in error_handler\n      return fn(*args, **kwargs)\n    File \"C:\\Users\\NiXoN\\miniconda3\\envs\\local_thesis_conda\\lib\\site-packages\\keras\\engine\\training.py\", line 1564, in fit\n      tmp_logs = self.train_function(iterator)\n    File \"C:\\Users\\NiXoN\\miniconda3\\envs\\local_thesis_conda\\lib\\site-packages\\keras\\engine\\training.py\", line 1160, in train_function\n      return step_function(self, iterator)\n    File \"C:\\Users\\NiXoN\\miniconda3\\envs\\local_thesis_conda\\lib\\site-packages\\keras\\engine\\training.py\", line 1146, in step_function\n      outputs = model.distribute_strategy.run(run_step, args=(data,))\n    File \"C:\\Users\\NiXoN\\miniconda3\\envs\\local_thesis_conda\\lib\\site-packages\\keras\\engine\\training.py\", line 1135, in run_step\n      outputs = model.train_step(data)\n    File \"C:\\Users\\NiXoN\\AppData\\Local\\Temp\\ipykernel_23112\\1491548344.py\", line 61, in train_step\n      d_loss = self.loss_fn(labels, predictions)\n    File \"C:\\Users\\NiXoN\\miniconda3\\envs\\local_thesis_conda\\lib\\site-packages\\keras\\losses.py\", line 152, in __call__\n      losses = call_fn(y_true, y_pred)\n    File \"C:\\Users\\NiXoN\\miniconda3\\envs\\local_thesis_conda\\lib\\site-packages\\keras\\losses.py\", line 272, in call\n      return ag_fn(y_true, y_pred, **self._fn_kwargs)\n    File \"C:\\Users\\NiXoN\\miniconda3\\envs\\local_thesis_conda\\lib\\site-packages\\keras\\losses.py\", line 2162, in binary_crossentropy\n      backend.binary_crossentropy(y_true, y_pred, from_logits=from_logits),\n    File \"C:\\Users\\NiXoN\\miniconda3\\envs\\local_thesis_conda\\lib\\site-packages\\keras\\backend.py\", line 5686, in binary_crossentropy\n      bce += (1 - target) * tf.math.log(1 - output + epsilon())\nNode: 'binary_crossentropy/mul_1'\nrequired broadcastable shapes\n\t [[{{node binary_crossentropy/mul_1}}]] [Op:__inference_train_function_8718]",
     "output_type": "error",
     "traceback": [
      "\u001b[1;31m---------------------------------------------------------------------------\u001b[0m",
      "\u001b[1;31mInvalidArgumentError\u001b[0m                      Traceback (most recent call last)",
      "Cell \u001b[1;32mIn[86], line 1\u001b[0m\n\u001b[1;32m----> 1\u001b[0m \u001b[43mgan\u001b[49m\u001b[38;5;241;43m.\u001b[39;49m\u001b[43mfit\u001b[49m\u001b[43m(\u001b[49m\n\u001b[0;32m      2\u001b[0m \u001b[43m    \u001b[49m\u001b[43mtrain_dataset\u001b[49m\u001b[43m,\u001b[49m\u001b[43m \u001b[49m\n\u001b[0;32m      3\u001b[0m \u001b[43m    \u001b[49m\u001b[43mepochs\u001b[49m\u001b[43m \u001b[49m\u001b[38;5;241;43m=\u001b[39;49m\u001b[43m \u001b[49m\u001b[43mEPOCHS\u001b[49m\u001b[43m,\u001b[49m\u001b[43m \u001b[49m\n\u001b[0;32m      4\u001b[0m \u001b[43m    \u001b[49m\u001b[43mverbose\u001b[49m\u001b[38;5;241;43m=\u001b[39;49m\u001b[38;5;241;43m1\u001b[39;49m\u001b[43m,\u001b[49m\u001b[43m   \u001b[49m\n\u001b[0;32m      5\u001b[0m \u001b[43m)\u001b[49m\n",
      "File \u001b[1;32m~\\miniconda3\\envs\\local_thesis_conda\\lib\\site-packages\\keras\\utils\\traceback_utils.py:70\u001b[0m, in \u001b[0;36mfilter_traceback.<locals>.error_handler\u001b[1;34m(*args, **kwargs)\u001b[0m\n\u001b[0;32m     67\u001b[0m     filtered_tb \u001b[38;5;241m=\u001b[39m _process_traceback_frames(e\u001b[38;5;241m.\u001b[39m__traceback__)\n\u001b[0;32m     68\u001b[0m     \u001b[38;5;66;03m# To get the full stack trace, call:\u001b[39;00m\n\u001b[0;32m     69\u001b[0m     \u001b[38;5;66;03m# `tf.debugging.disable_traceback_filtering()`\u001b[39;00m\n\u001b[1;32m---> 70\u001b[0m     \u001b[38;5;28;01mraise\u001b[39;00m e\u001b[38;5;241m.\u001b[39mwith_traceback(filtered_tb) \u001b[38;5;28;01mfrom\u001b[39;00m \u001b[38;5;28;01mNone\u001b[39;00m\n\u001b[0;32m     71\u001b[0m \u001b[38;5;28;01mfinally\u001b[39;00m:\n\u001b[0;32m     72\u001b[0m     \u001b[38;5;28;01mdel\u001b[39;00m filtered_tb\n",
      "File \u001b[1;32m~\\miniconda3\\envs\\local_thesis_conda\\lib\\site-packages\\tensorflow\\python\\eager\\execute.py:54\u001b[0m, in \u001b[0;36mquick_execute\u001b[1;34m(op_name, num_outputs, inputs, attrs, ctx, name)\u001b[0m\n\u001b[0;32m     52\u001b[0m \u001b[38;5;28;01mtry\u001b[39;00m:\n\u001b[0;32m     53\u001b[0m   ctx\u001b[38;5;241m.\u001b[39mensure_initialized()\n\u001b[1;32m---> 54\u001b[0m   tensors \u001b[38;5;241m=\u001b[39m pywrap_tfe\u001b[38;5;241m.\u001b[39mTFE_Py_Execute(ctx\u001b[38;5;241m.\u001b[39m_handle, device_name, op_name,\n\u001b[0;32m     55\u001b[0m                                       inputs, attrs, num_outputs)\n\u001b[0;32m     56\u001b[0m \u001b[38;5;28;01mexcept\u001b[39;00m core\u001b[38;5;241m.\u001b[39m_NotOkStatusException \u001b[38;5;28;01mas\u001b[39;00m e:\n\u001b[0;32m     57\u001b[0m   \u001b[38;5;28;01mif\u001b[39;00m name \u001b[38;5;129;01mis\u001b[39;00m \u001b[38;5;129;01mnot\u001b[39;00m \u001b[38;5;28;01mNone\u001b[39;00m:\n",
      "\u001b[1;31mInvalidArgumentError\u001b[0m: Graph execution error:\n\nDetected at node 'binary_crossentropy/mul_1' defined at (most recent call last):\n    File \"C:\\Users\\NiXoN\\miniconda3\\envs\\local_thesis_conda\\lib\\runpy.py\", line 194, in _run_module_as_main\n      return _run_code(code, main_globals, None,\n    File \"C:\\Users\\NiXoN\\miniconda3\\envs\\local_thesis_conda\\lib\\runpy.py\", line 87, in _run_code\n      exec(code, run_globals)\n    File \"C:\\Users\\NiXoN\\miniconda3\\envs\\local_thesis_conda\\lib\\site-packages\\ipykernel_launcher.py\", line 17, in <module>\n      app.launch_new_instance()\n    File \"C:\\Users\\NiXoN\\miniconda3\\envs\\local_thesis_conda\\lib\\site-packages\\traitlets\\config\\application.py\", line 1075, in launch_instance\n      app.start()\n    File \"C:\\Users\\NiXoN\\miniconda3\\envs\\local_thesis_conda\\lib\\site-packages\\ipykernel\\kernelapp.py\", line 701, in start\n      self.io_loop.start()\n    File \"C:\\Users\\NiXoN\\miniconda3\\envs\\local_thesis_conda\\lib\\site-packages\\tornado\\platform\\asyncio.py\", line 205, in start\n      self.asyncio_loop.run_forever()\n    File \"C:\\Users\\NiXoN\\miniconda3\\envs\\local_thesis_conda\\lib\\asyncio\\windows_events.py\", line 316, in run_forever\n      super().run_forever()\n    File \"C:\\Users\\NiXoN\\miniconda3\\envs\\local_thesis_conda\\lib\\asyncio\\base_events.py\", line 570, in run_forever\n      self._run_once()\n    File \"C:\\Users\\NiXoN\\miniconda3\\envs\\local_thesis_conda\\lib\\asyncio\\base_events.py\", line 1859, in _run_once\n      handle._run()\n    File \"C:\\Users\\NiXoN\\miniconda3\\envs\\local_thesis_conda\\lib\\asyncio\\events.py\", line 81, in _run\n      self._context.run(self._callback, *self._args)\n    File \"C:\\Users\\NiXoN\\miniconda3\\envs\\local_thesis_conda\\lib\\site-packages\\ipykernel\\kernelbase.py\", line 534, in dispatch_queue\n      await self.process_one()\n    File \"C:\\Users\\NiXoN\\miniconda3\\envs\\local_thesis_conda\\lib\\site-packages\\ipykernel\\kernelbase.py\", line 523, in process_one\n      await dispatch(*args)\n    File \"C:\\Users\\NiXoN\\miniconda3\\envs\\local_thesis_conda\\lib\\site-packages\\ipykernel\\kernelbase.py\", line 429, in dispatch_shell\n      await result\n    File \"C:\\Users\\NiXoN\\miniconda3\\envs\\local_thesis_conda\\lib\\site-packages\\ipykernel\\kernelbase.py\", line 767, in execute_request\n      reply_content = await reply_content\n    File \"C:\\Users\\NiXoN\\miniconda3\\envs\\local_thesis_conda\\lib\\site-packages\\ipykernel\\ipkernel.py\", line 429, in do_execute\n      res = shell.run_cell(\n    File \"C:\\Users\\NiXoN\\miniconda3\\envs\\local_thesis_conda\\lib\\site-packages\\ipykernel\\zmqshell.py\", line 549, in run_cell\n      return super().run_cell(*args, **kwargs)\n    File \"C:\\Users\\NiXoN\\miniconda3\\envs\\local_thesis_conda\\lib\\site-packages\\IPython\\core\\interactiveshell.py\", line 3009, in run_cell\n      result = self._run_cell(\n    File \"C:\\Users\\NiXoN\\miniconda3\\envs\\local_thesis_conda\\lib\\site-packages\\IPython\\core\\interactiveshell.py\", line 3064, in _run_cell\n      result = runner(coro)\n    File \"C:\\Users\\NiXoN\\miniconda3\\envs\\local_thesis_conda\\lib\\site-packages\\IPython\\core\\async_helpers.py\", line 129, in _pseudo_sync_runner\n      coro.send(None)\n    File \"C:\\Users\\NiXoN\\miniconda3\\envs\\local_thesis_conda\\lib\\site-packages\\IPython\\core\\interactiveshell.py\", line 3269, in run_cell_async\n      has_raised = await self.run_ast_nodes(code_ast.body, cell_name,\n    File \"C:\\Users\\NiXoN\\miniconda3\\envs\\local_thesis_conda\\lib\\site-packages\\IPython\\core\\interactiveshell.py\", line 3448, in run_ast_nodes\n      if await self.run_code(code, result, async_=asy):\n    File \"C:\\Users\\NiXoN\\miniconda3\\envs\\local_thesis_conda\\lib\\site-packages\\IPython\\core\\interactiveshell.py\", line 3508, in run_code\n      exec(code_obj, self.user_global_ns, self.user_ns)\n    File \"C:\\Users\\NiXoN\\AppData\\Local\\Temp\\ipykernel_23112\\2730592735.py\", line 1, in <module>\n      gan.fit(\n    File \"C:\\Users\\NiXoN\\miniconda3\\envs\\local_thesis_conda\\lib\\site-packages\\keras\\utils\\traceback_utils.py\", line 65, in error_handler\n      return fn(*args, **kwargs)\n    File \"C:\\Users\\NiXoN\\miniconda3\\envs\\local_thesis_conda\\lib\\site-packages\\keras\\engine\\training.py\", line 1564, in fit\n      tmp_logs = self.train_function(iterator)\n    File \"C:\\Users\\NiXoN\\miniconda3\\envs\\local_thesis_conda\\lib\\site-packages\\keras\\engine\\training.py\", line 1160, in train_function\n      return step_function(self, iterator)\n    File \"C:\\Users\\NiXoN\\miniconda3\\envs\\local_thesis_conda\\lib\\site-packages\\keras\\engine\\training.py\", line 1146, in step_function\n      outputs = model.distribute_strategy.run(run_step, args=(data,))\n    File \"C:\\Users\\NiXoN\\miniconda3\\envs\\local_thesis_conda\\lib\\site-packages\\keras\\engine\\training.py\", line 1135, in run_step\n      outputs = model.train_step(data)\n    File \"C:\\Users\\NiXoN\\AppData\\Local\\Temp\\ipykernel_23112\\1491548344.py\", line 61, in train_step\n      d_loss = self.loss_fn(labels, predictions)\n    File \"C:\\Users\\NiXoN\\miniconda3\\envs\\local_thesis_conda\\lib\\site-packages\\keras\\losses.py\", line 152, in __call__\n      losses = call_fn(y_true, y_pred)\n    File \"C:\\Users\\NiXoN\\miniconda3\\envs\\local_thesis_conda\\lib\\site-packages\\keras\\losses.py\", line 272, in call\n      return ag_fn(y_true, y_pred, **self._fn_kwargs)\n    File \"C:\\Users\\NiXoN\\miniconda3\\envs\\local_thesis_conda\\lib\\site-packages\\keras\\losses.py\", line 2162, in binary_crossentropy\n      backend.binary_crossentropy(y_true, y_pred, from_logits=from_logits),\n    File \"C:\\Users\\NiXoN\\miniconda3\\envs\\local_thesis_conda\\lib\\site-packages\\keras\\backend.py\", line 5686, in binary_crossentropy\n      bce += (1 - target) * tf.math.log(1 - output + epsilon())\nNode: 'binary_crossentropy/mul_1'\nrequired broadcastable shapes\n\t [[{{node binary_crossentropy/mul_1}}]] [Op:__inference_train_function_8718]"
     ]
    }
   ],
   "source": [
    "gan.fit(\n",
    "    train_dataset, \n",
    "    epochs = EPOCHS, \n",
    "    verbose=1,   \n",
    ")"
   ]
  },
  {
   "cell_type": "code",
   "execution_count": null,
   "id": "e9937835-456c-4f11-8b8c-29d0b2012d08",
   "metadata": {},
   "outputs": [],
   "source": []
  }
 ],
 "metadata": {
  "kernelspec": {
   "display_name": "Python 3 (ipykernel)",
   "language": "python",
   "name": "python3"
  },
  "language_info": {
   "codemirror_mode": {
    "name": "ipython",
    "version": 3
   },
   "file_extension": ".py",
   "mimetype": "text/x-python",
   "name": "python",
   "nbconvert_exporter": "python",
   "pygments_lexer": "ipython3",
   "version": "3.8.19"
  }
 },
 "nbformat": 4,
 "nbformat_minor": 5
}
