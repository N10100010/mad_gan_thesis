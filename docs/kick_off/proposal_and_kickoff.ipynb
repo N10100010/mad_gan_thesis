{
 "cells": [
  {
   "cell_type": "code",
   "execution_count": null,
   "id": "974cd483-0428-4f0a-a1fe-2d3eea0a31ba",
   "metadata": {},
   "outputs": [],
   "source": []
  },
  {
   "cell_type": "markdown",
   "id": "2dd09193-c66d-49a0-962a-5a7e4a8e647a",
   "metadata": {},
   "source": [
    "# KICK OFF \n",
    "\n",
    "## Wissenschafliche Ziele und Herausforderungen der Aufgabe \n",
    "### Ziele \n",
    "### Herausforderungen \n",
    "\n",
    "## Technologien Daten und Werkzeuge \n",
    "### Technologien \n",
    "### Daten \n",
    "### Werkzeuge \n",
    "\n",
    "## Risiken \n",
    "\n"
   ]
  }
 ],
 "metadata": {
  "kernelspec": {
   "display_name": "Python 3 (ipykernel)",
   "language": "python",
   "name": "python3"
  },
  "language_info": {
   "codemirror_mode": {
    "name": "ipython",
    "version": 3
   },
   "file_extension": ".py",
   "mimetype": "text/x-python",
   "name": "python",
   "nbconvert_exporter": "python",
   "pygments_lexer": "ipython3",
   "version": "3.8.18"
  }
 },
 "nbformat": 4,
 "nbformat_minor": 5
}
